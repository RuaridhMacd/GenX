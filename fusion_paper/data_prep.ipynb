{
 "cells": [
  {
   "attachments": {},
   "cell_type": "markdown",
   "metadata": {},
   "source": [
    "## Pre-Processing\n",
    "\n",
    "This file distributes the new and updated load file into the various run folders\n",
    "First, let's load the required packages"
   ]
  },
  {
   "cell_type": "code",
   "execution_count": 1,
   "metadata": {},
   "outputs": [],
   "source": [
    "import os\n",
    "\n",
    "import numpy as np\n",
    "import pandas as pd"
   ]
  },
  {
   "cell_type": "code",
   "execution_count": 2,
   "metadata": {},
   "outputs": [
    {
     "name": "stdout",
     "output_type": "stream",
     "text": [
      "d:\\Nirmal\\2022 FALL MIT\\RA Documents\\GenX\\GenX_CO2\\GenX\\fusion_paper\n"
     ]
    }
   ],
   "source": [
    "root_path = os.getcwd()\n",
    "print(root_path)"
   ]
  },
  {
   "attachments": {},
   "cell_type": "markdown",
   "metadata": {},
   "source": [
    "# 20-year-run Load Check"
   ]
  },
  {
   "cell_type": "code",
   "execution_count": 64,
   "metadata": {},
   "outputs": [
    {
     "name": "stdout",
     "output_type": "stream",
     "text": [
      "[2001, 2002, 2003, 2004, 2005, 2006, 2007, 2008, 2009, 2010, 2011, 2012, 2013, 2014, 2015, 2016, 2017, 2018, 2019, 2020]\n",
      "20\n",
      "[0       18617.240532\n",
      "1       17112.233231\n",
      "2       16555.913802\n",
      "3       16091.051154\n",
      "4       15945.115896\n",
      "            ...     \n",
      "8755    30927.318575\n",
      "8756    29498.917851\n",
      "8757    27973.172901\n",
      "8758    26032.918824\n",
      "8759    18849.252160\n",
      "Name: total_load, Length: 8760, dtype: float64, 0       18015.149477\n",
      "1       16554.503052\n",
      "2       15966.642599\n",
      "3       15426.855114\n",
      "4       15194.318597\n",
      "            ...     \n",
      "8755    29176.855265\n",
      "8756    27538.030820\n",
      "8757    25885.970531\n",
      "8758    23869.626569\n",
      "8759    18650.310441\n",
      "Name: total_load, Length: 8760, dtype: float64, 0       16702.249352\n",
      "1       15015.751621\n",
      "2       14384.985248\n",
      "3       13772.132069\n",
      "4       13443.557599\n",
      "            ...     \n",
      "8755    28866.416413\n",
      "8756    27464.080706\n",
      "8757    25976.010805\n",
      "8758    24075.586682\n",
      "8759    18427.531336\n",
      "Name: total_load, Length: 8760, dtype: float64, 0       16952.626059\n",
      "1       15234.954849\n",
      "2       14707.936664\n",
      "3       14104.308539\n",
      "4       13779.458924\n",
      "            ...     \n",
      "8755    29079.101457\n",
      "8756    27454.445114\n",
      "8757    25829.946836\n",
      "8758    23799.813228\n",
      "8759    18482.479058\n",
      "Name: total_load, Length: 8760, dtype: float64, 0       15978.823051\n",
      "1       14308.139266\n",
      "2       13663.441186\n",
      "3       13094.522057\n",
      "4       12787.915892\n",
      "            ...     \n",
      "8755    30528.645798\n",
      "8756    29024.542306\n",
      "8757    27447.586418\n",
      "8758    25502.429997\n",
      "8759    18490.878553\n",
      "Name: total_load, Length: 8760, dtype: float64, 0       17281.075787\n",
      "1       15707.348279\n",
      "2       15084.762117\n",
      "3       14452.910720\n",
      "4       14185.861159\n",
      "            ...     \n",
      "8755    29477.903814\n",
      "8756    28092.305473\n",
      "8757    26692.098889\n",
      "8758    24699.170140\n",
      "8759    18627.880634\n",
      "Name: total_load, Length: 8760, dtype: float64, 0       16625.656940\n",
      "1       15358.639918\n",
      "2       14863.127171\n",
      "3       14345.284606\n",
      "4       14114.254458\n",
      "            ...     \n",
      "8755    29955.933705\n",
      "8756    28285.995241\n",
      "8757    26707.656229\n",
      "8758    24682.944010\n",
      "8759    18606.852935\n",
      "Name: total_load, Length: 8760, dtype: float64, 0       17179.932776\n",
      "1       15777.893563\n",
      "2       15244.560790\n",
      "3       14837.778939\n",
      "4       14685.885046\n",
      "            ...     \n",
      "8755    32781.899388\n",
      "8756    31287.151239\n",
      "8757    29962.065389\n",
      "8758    28347.225601\n",
      "8759    18714.454960\n",
      "Name: total_load, Length: 8760, dtype: float64, 0       22009.936576\n",
      "1       20815.333016\n",
      "2       20442.471092\n",
      "3       20206.530779\n",
      "4       20286.475011\n",
      "            ...     \n",
      "8755    30934.607323\n",
      "8756    29294.124159\n",
      "8757    27746.135625\n",
      "8758    25694.085912\n",
      "8759    19031.459383\n",
      "Name: total_load, Length: 8760, dtype: float64, 0       17155.158099\n",
      "1       15520.961012\n",
      "2       14949.977844\n",
      "3       14438.842015\n",
      "4       14185.936249\n",
      "            ...     \n",
      "8755    28805.321824\n",
      "8756    27475.661065\n",
      "8757    25985.001948\n",
      "8758    24024.512662\n",
      "8759    18615.360449\n",
      "Name: total_load, Length: 8760, dtype: float64, 0       16204.143152\n",
      "1       14615.099610\n",
      "2       14132.288479\n",
      "3       13680.295062\n",
      "4       13432.680770\n",
      "            ...     \n",
      "8755    29014.289483\n",
      "8756    27573.602553\n",
      "8757    26071.188912\n",
      "8758    24170.637318\n",
      "8759    18441.034282\n",
      "Name: total_load, Length: 8760, dtype: float64, 0       16178.633591\n",
      "1       14847.351849\n",
      "2       14381.361054\n",
      "3       13906.167461\n",
      "4       13651.362886\n",
      "            ...     \n",
      "8755    32010.962224\n",
      "8756    30481.844561\n",
      "8757    28902.662787\n",
      "8758    27006.975558\n",
      "8759    24546.758893\n",
      "Name: total_load, Length: 8760, dtype: float64, 0       17435.188908\n",
      "1       15648.488110\n",
      "2       14927.339518\n",
      "3       14294.488905\n",
      "4       14026.048358\n",
      "            ...     \n",
      "8755    31991.135366\n",
      "8756    30571.453659\n",
      "8757    29117.632857\n",
      "8758    27191.838876\n",
      "8759    18803.850605\n",
      "Name: total_load, Length: 8760, dtype: float64, 0       18643.861438\n",
      "1       17129.166084\n",
      "2       16646.924728\n",
      "3       16201.416979\n",
      "4       16016.370108\n",
      "            ...     \n",
      "8755    31219.982252\n",
      "8756    29867.612049\n",
      "8757    28517.796835\n",
      "8758    26716.442618\n",
      "8759    18770.581789\n",
      "Name: total_load, Length: 8760, dtype: float64, 0       18470.719455\n",
      "1       17073.955921\n",
      "2       16610.523694\n",
      "3       16197.462474\n",
      "4       15977.907948\n",
      "            ...     \n",
      "8755    28905.724422\n",
      "8756    27294.631255\n",
      "8757    25759.499961\n",
      "8758    23892.067355\n",
      "8759    18651.958746\n",
      "Name: total_load, Length: 8760, dtype: float64, 0       16587.209719\n",
      "1       15097.065783\n",
      "2       14520.292322\n",
      "3       13969.158106\n",
      "4       13682.720793\n",
      "            ...     \n",
      "8755    30066.012586\n",
      "8756    28342.147837\n",
      "8757    26627.735149\n",
      "8758    24400.959610\n",
      "8759    18520.437460\n",
      "Name: total_load, Length: 8760, dtype: float64, 0       16466.668050\n",
      "1       14841.904042\n",
      "2       14213.092144\n",
      "3       13681.093142\n",
      "4       13408.511338\n",
      "            ...     \n",
      "8755    36235.406919\n",
      "8756    34707.655278\n",
      "8757    33174.736469\n",
      "8758    31339.294228\n",
      "8759    18721.591960\n",
      "Name: total_load, Length: 8760, dtype: float64, 0       22977.748288\n",
      "1       21551.523685\n",
      "2       21216.325544\n",
      "3       21002.972883\n",
      "4       21061.191509\n",
      "            ...     \n",
      "8755    29300.562071\n",
      "8756    27664.556943\n",
      "8757    26143.021631\n",
      "8758    24176.066388\n",
      "8759    19037.216813\n",
      "Name: total_load, Length: 8760, dtype: float64, 0       16402.631148\n",
      "1       14890.039478\n",
      "2       14347.481721\n",
      "3       13892.309314\n",
      "4       13582.756557\n",
      "            ...     \n",
      "8755    29577.675716\n",
      "8756    27993.624110\n",
      "8757    26408.578371\n",
      "8758    24430.336889\n",
      "8759    18492.524225\n",
      "Name: total_load, Length: 8760, dtype: float64, 0       16722.821514\n",
      "1       15134.626815\n",
      "2       14554.239740\n",
      "3       13997.076344\n",
      "4       13698.645424\n",
      "            ...     \n",
      "8755    28923.923986\n",
      "8756    27490.337969\n",
      "8757    25928.988161\n",
      "8758    24018.333704\n",
      "8759    18559.897362\n",
      "Name: total_load, Length: 8760, dtype: float64]\n",
      "175200\n"
     ]
    }
   ],
   "source": [
    "years = [year for year in range(2001, 2021)]\n",
    "print(years)\n",
    "\n",
    "all_load = []\n",
    "\n",
    "for year in years:\n",
    "    \n",
    "    raw_load_data = pd.read_csv(\"load_data/Electricity_Load_HE_BaseYear\" + str(year) + \".csv\")\n",
    "    \n",
    "    load_data_copy = raw_load_data.drop(raw_load_data.columns[0], axis=1)\n",
    "    \n",
    "    load_data_copy['total_load'] = load_data_copy.sum(axis=1)\n",
    "    \n",
    "    # print(load_data_copy.head())\n",
    "\n",
    "    all_load.append(load_data_copy['total_load'])\n",
    "\n",
    "print(len(all_load))\n",
    "print(all_load)\n",
    "\n",
    "load_20 = np.concatenate(all_load)\n",
    "\n",
    "print(len(load_20))\n",
    "\n",
    "# add_check = load_data_copy.iloc[0, :-1].sum()\n",
    "# if add_check == load_data_copy.iloc[0, -1]:\n",
    "#     print(\"Load has been added correctly\")\n",
    "# else:\n",
    "#     print(\"Redo the load calculation\")\n",
    "\n",
    "yr_20 = pd.read_csv(\"paper_runs/2zone_20yr/89QC_Flex_Fus/Load_data.csv\")\n",
    "yr_20[\"Load_MW_z2\"] = load_20\n",
    "# print(yr_20.head())\n",
    "\n",
    "yr_20.to_csv('paper_runs/2zone_20yr/89QC_Flex_Fus/Load_data.csv', index=False)\n",
    "yr_20.to_csv('paper_runs/2zone_20yr/89QC_Flex_NoFus/Load_data.csv', index=False)\n"
   ]
  },
  {
   "attachments": {},
   "cell_type": "markdown",
   "metadata": {},
   "source": [
    "# Individual Years Load distribution"
   ]
  },
  {
   "cell_type": "code",
   "execution_count": 66,
   "metadata": {},
   "outputs": [],
   "source": [
    "# split_load = np.array_split(all_load, 20)\n",
    "# print(len(split_load))\n",
    "\n",
    "for i in range(len(all_load)):\n",
    "    load = all_load[i]\n",
    "    year = str(2001 + i)\n",
    "    load_data = pd.read_csv('paper_runs/2zone_greenfields/fusion/' + year + '/Load_data.csv')\n",
    "    load_data['Load_MW_z2'] = load\n",
    "    load_data.to_csv('paper_runs/2zone_greenfields/fusion/' + year + '/Load_data.csv', index=False)\n",
    "    "
   ]
  },
  {
   "cell_type": "code",
   "execution_count": 7,
   "metadata": {},
   "outputs": [],
   "source": [
    "### Check the value of the 89_QC load across all load_data.csv files\n",
    "\n",
    "yr_20 = pd.read_csv(\"paper_runs/2zone_20yr/89QC_Flex_Fus/Load_data.csv\")\n",
    "qc_load = yr_20[\"Load_MW_z1\"]\n",
    "qc_1yr_load = qc_load[:8760]\n",
    "\n",
    "for year in range(2001, 2021):\n",
    "    load_data = pd.read_csv(f'paper_runs/2zone_greenfields/fusion/{year}/Load_data.csv')\n",
    "    load_data['Load_MW_z1'] = qc_1yr_load\n",
    "    load_data.to_csv(f'paper_runs/2zone_greenfields/fusion/{year}/Load_data.csv', index=False)"
   ]
  },
  {
   "cell_type": "markdown",
   "metadata": {},
   "source": [
    "# Load check"
   ]
  },
  {
   "cell_type": "code",
   "execution_count": 5,
   "metadata": {},
   "outputs": [
    {
     "name": "stdout",
     "output_type": "stream",
     "text": [
      "Fusion load test for 2001 passed\n",
      "No Fusion load test for 2001 passed\n",
      "Fusion load test for 2002 passed\n",
      "No Fusion load test for 2002 passed\n",
      "Fusion load test for 2003 passed\n",
      "No Fusion load test for 2003 passed\n",
      "Fusion load test for 2004 passed\n",
      "No Fusion load test for 2004 passed\n",
      "Fusion load test for 2005 passed\n",
      "No Fusion load test for 2005 passed\n",
      "Fusion load test for 2006 passed\n",
      "No Fusion load test for 2006 passed\n",
      "Fusion load test for 2007 passed\n",
      "No Fusion load test for 2007 passed\n",
      "Fusion load test for 2008 passed\n",
      "No Fusion load test for 2008 passed\n",
      "Fusion load test for 2009 passed\n",
      "No Fusion load test for 2009 passed\n",
      "Fusion load test for 2010 passed\n",
      "No Fusion load test for 2010 passed\n",
      "Fusion load test for 2011 passed\n",
      "No Fusion load test for 2011 passed\n",
      "Fusion load test for 2012 passed\n",
      "No Fusion load test for 2012 passed\n",
      "Fusion load test for 2013 passed\n",
      "No Fusion load test for 2013 passed\n",
      "Fusion load test for 2014 passed\n",
      "No Fusion load test for 2014 passed\n",
      "Fusion load test for 2015 passed\n",
      "No Fusion load test for 2015 passed\n",
      "Fusion load test for 2016 passed\n",
      "No Fusion load test for 2016 passed\n",
      "Fusion load test for 2017 passed\n",
      "No Fusion load test for 2017 passed\n",
      "Fusion load test for 2018 passed\n",
      "No Fusion load test for 2018 passed\n",
      "Fusion load test for 2019 passed\n",
      "No Fusion load test for 2019 passed\n",
      "Fusion load test for 2020 passed\n",
      "No Fusion load test for 2020 passed\n"
     ]
    }
   ],
   "source": [
    "years = [year for year in range(2001, 2021)]\n",
    "\n",
    "for year in years:\n",
    "    raw_load_data = pd.read_csv(f\"load_data/Electricity_Load_HE_BaseYear{year}.csv\")\n",
    "\n",
    "    load_data_copy = raw_load_data.drop(raw_load_data.columns[0], axis=1)\n",
    "\n",
    "    load_data_copy['total_load'] = load_data_copy.sum(axis=1)\n",
    "\n",
    "    yr_load_fus = pd.read_csv(f\"paper_runs/2zone_greenfields/fusion/{year}/Load_data.csv\")\n",
    "    yr_load_nofus = pd.read_csv(f\"paper_runs/2zone_greenfields/no_fusion/{year}/Load_data.csv\")\n",
    "\n",
    "    if load_data_copy['total_load'].all() == yr_load_fus[\"Load_MW_z2\"].all():\n",
    "        print(f\"Fusion load test for {year} passed\")\n",
    "    else:\n",
    "        print(f\"Fusion load test for {year} failed\")\n",
    "\n",
    "    if load_data_copy['total_load'].all() == yr_load_nofus[\"Load_MW_z2\"].all():\n",
    "        print(f\"No Fusion load test for {year} passed\")\n",
    "    else:\n",
    "        print(f\"No Fusion load test for {year} failed\")\n",
    "    \n",
    "    "
   ]
  },
  {
   "attachments": {},
   "cell_type": "markdown",
   "metadata": {},
   "source": [
    "# Capacity Factor check\n",
    "Check the capacity factors for solar, onshore, and offshore data "
   ]
  },
  {
   "cell_type": "code",
   "execution_count": 9,
   "metadata": {},
   "outputs": [
    {
     "name": "stdout",
     "output_type": "stream",
     "text": [
      "Solar test for 2001 passed\n",
      "Onshore wind test for 2001 passed\n",
      "Offshore wind test for 2001 passed\n",
      "Solar test for 2002 passed\n",
      "Onshore wind test for 2002 passed\n",
      "Offshore wind test for 2002 passed\n",
      "Solar test for 2003 passed\n",
      "Onshore wind test for 2003 passed\n",
      "Offshore wind test for 2003 passed\n",
      "Solar test for 2004 passed\n",
      "Onshore wind test for 2004 passed\n",
      "Offshore wind test for 2004 passed\n",
      "Solar test for 2005 passed\n",
      "Onshore wind test for 2005 passed\n",
      "Offshore wind test for 2005 passed\n",
      "Solar test for 2006 passed\n",
      "Onshore wind test for 2006 passed\n",
      "Offshore wind test for 2006 passed\n",
      "Solar test for 2007 passed\n",
      "Onshore wind test for 2007 passed\n",
      "Offshore wind test for 2007 passed\n",
      "Solar test for 2008 passed\n",
      "Onshore wind test for 2008 passed\n",
      "Offshore wind test for 2008 passed\n",
      "Solar test for 2009 passed\n",
      "Onshore wind test for 2009 passed\n",
      "Offshore wind test for 2009 passed\n",
      "Solar test for 2010 passed\n",
      "Onshore wind test for 2010 passed\n",
      "Offshore wind test for 2010 passed\n",
      "Solar test for 2011 passed\n",
      "Onshore wind test for 2011 passed\n",
      "Offshore wind test for 2011 passed\n",
      "Solar test for 2012 passed\n",
      "Onshore wind test for 2012 passed\n",
      "Offshore wind test for 2012 passed\n",
      "Solar test for 2013 passed\n",
      "Onshore wind test for 2013 passed\n",
      "Offshore wind test for 2013 passed\n",
      "Solar test for 2014 passed\n",
      "Onshore wind test for 2014 passed\n",
      "Offshore wind test for 2014 passed\n",
      "Solar test for 2015 passed\n",
      "Onshore wind test for 2015 passed\n",
      "Offshore wind test for 2015 passed\n",
      "Solar test for 2016 passed\n",
      "Onshore wind test for 2016 passed\n",
      "Offshore wind test for 2016 passed\n",
      "Solar test for 2017 passed\n",
      "Onshore wind test for 2017 passed\n",
      "Offshore wind test for 2017 passed\n",
      "Solar test for 2018 passed\n",
      "Onshore wind test for 2018 passed\n",
      "Offshore wind test for 2018 passed\n",
      "Solar test for 2019 passed\n",
      "Onshore wind test for 2019 passed\n",
      "Offshore wind test for 2019 passed\n",
      "Solar test for 2020 passed\n",
      "Onshore wind test for 2020 passed\n",
      "Offshore wind test for 2020 passed\n"
     ]
    }
   ],
   "source": [
    "### Read the reference files\n",
    "\n",
    "for i in range(2001,2021):\n",
    "    year = str(i)\n",
    "    \n",
    "    solar_ref = pd.read_csv(f\"availability_data/AvailabilityFactors_Solar_{year}.csv\")\n",
    "    onsw_ref = pd.read_csv(f\"availability_data/AvailabilityFactors_Wind_Onshore_{year}.csv\")\n",
    "    ofsw_ref = pd.read_csv(f\"availability_data/AvailabilityFactors_Wind_Offshore_{year}.csv\")\n",
    "    \n",
    "    \" 4 is MA \" \n",
    "    solar_cf = solar_ref[\"4\"]\n",
    "    onsw_cf = onsw_ref[\"4\"]\n",
    "    ofsw_cf = ofsw_ref[\"4\"]\n",
    "\n",
    "    yearly_cf = pd.read_csv(f\"paper_runs/2zone_greenfields/fusion/{year}/Generators_variability.csv\")\n",
    "\n",
    "    if solar_cf.all() == yearly_cf[\"solar_pv_2\"].all():\n",
    "        print(f\"Solar test for {year} passed\")\n",
    "    else:\n",
    "        print(f\"Solar test for {year} failed\")\n",
    "    \n",
    "    if onsw_cf.all() == yearly_cf[\"onshore_wind_2\"].all():\n",
    "        print(f\"Onshore wind test for {year} passed\")\n",
    "    else:\n",
    "        print(f\"Onshore test for {year} failed\")\n",
    "\n",
    "    if ofsw_cf.all() == yearly_cf[\"offshore_wind_2\"].all():\n",
    "        print(f\"Offshore wind test for {year} passed\")\n",
    "    else:\n",
    "        print(f\"Offshore test for {year} failed\")\n",
    "    \n",
    "    # if all((a == c).all() for a, c in zip([solar_cf, onsw_cf, ofsw_cf], [yearly_cf[\"solar_pv_2\"], yearly_cf[\"onshore_wind_2\"], yearly_cf[\"offshore_wind_2\"]])):\n",
    "    #     print(\"Test passed\")\n",
    "    # else:\n",
    "    #     print(\"Error: Arrays do not match with corresponding arrays\")\n"
   ]
  },
  {
   "attachments": {},
   "cell_type": "markdown",
   "metadata": {},
   "source": [
    "# 20 year availability"
   ]
  },
  {
   "cell_type": "code",
   "execution_count": 9,
   "metadata": {},
   "outputs": [
    {
     "name": "stdout",
     "output_type": "stream",
     "text": [
      "   solar_pv  onshore_wind  offshore_wind\n",
      "0       0.0      0.620515           0.81\n",
      "1       0.0      0.624840           0.81\n",
      "2       0.0      0.630755           0.81\n",
      "3       0.0      0.479787           0.81\n",
      "4       0.0      0.621750           0.81\n",
      "Solar test passed\n",
      "Onshore wind test for passed\n",
      "Offshore wind test for passed\n"
     ]
    }
   ],
   "source": [
    "all_cf = pd.DataFrame(columns = [\"solar_pv\", \"onshore_wind\", \"offshore_wind\"])\n",
    "\n",
    "all_cf['solar_pv'] = [0] * 175200\n",
    "all_cf['onshore_wind'] = [0] * 175200\n",
    "all_cf['offshore_wind'] = [0] * 175200\n",
    "\n",
    "\n",
    "\n",
    "for i in range(2001,2021):\n",
    "    year = str(i)\n",
    "    \n",
    "    s_index = (i - 2001) * 8760\n",
    "    e_index = s_index + 8759\n",
    "    \n",
    "    solar_ref = pd.read_csv(f\"availability_data/AvailabilityFactors_Solar_{year}.csv\")\n",
    "    onsw_ref = pd.read_csv(f\"availability_data/AvailabilityFactors_Wind_Onshore_{year}.csv\")\n",
    "    ofsw_ref = pd.read_csv(f\"availability_data/AvailabilityFactors_Wind_Offshore_{year}.csv\")\n",
    "    \n",
    "    \" 4 is MA \" \n",
    "    solar_cf = solar_ref[\"4\"]\n",
    "    onsw_cf = onsw_ref[\"4\"]\n",
    "    ofsw_cf = ofsw_ref[\"4\"]\n",
    "\n",
    "    all_cf.loc[s_index:e_index, 'solar_pv'] = solar_cf\n",
    "    all_cf.loc[s_index:e_index, 'onshore_wind'] = onsw_cf\n",
    "    all_cf.loc[s_index:e_index, 'offshore_wind'] = ofsw_cf\n",
    "\n",
    "print(all_cf.head())\n",
    "\n",
    "# Now compare it with the 20 year data\n",
    "year_20_cf = pd.read_csv(f\"paper_runs/2zone_20yr/89QC_Flex_Fus/Generators_variability.csv\")\n",
    "\n",
    "if all_cf['solar_pv'].all() == year_20_cf[\"solar_pv_2\"].all():\n",
    "    print(f\"Solar test passed\")\n",
    "else:\n",
    "    print(f\"Solar test for failed\")\n",
    "    \n",
    "if all_cf['onshore_wind'].all() == year_20_cf[\"onshore_wind_2\"].all():\n",
    "    print(f\"Onshore wind test for passed\")\n",
    "else:\n",
    "    print(f\"Onshore test for failed\")\n",
    "\n",
    "if all_cf['offshore_wind'].all() == year_20_cf[\"offshore_wind_2\"].all():\n",
    "    print(f\"Offshore wind test for passed\")\n",
    "else:\n",
    "    print(f\"Offshore test for failed\")\n"
   ]
  },
  {
   "attachments": {},
   "cell_type": "markdown",
   "metadata": {},
   "source": [
    "# Distribute the availability data to the different years"
   ]
  },
  {
   "cell_type": "code",
   "execution_count": 107,
   "metadata": {},
   "outputs": [],
   "source": [
    "for i in range(2001,2021):\n",
    "    year = str(i)\n",
    "    \n",
    "    solar_ref = pd.read_csv(f\"availability_data/AvailabilityFactors_Solar_{year}.csv\")\n",
    "    onsw_ref = pd.read_csv(f\"availability_data/AvailabilityFactors_Wind_Onshore_{year}.csv\")\n",
    "    ofsw_ref = pd.read_csv(f\"availability_data/AvailabilityFactors_Wind_Offshore_{year}.csv\")\n",
    "    \n",
    "    \" 4 is MA \" \n",
    "    solar_cf = solar_ref[\"4\"]\n",
    "    onsw_cf = onsw_ref[\"4\"]\n",
    "    ofsw_cf = ofsw_ref[\"4\"]\n",
    "\n",
    "    # Read the availability file for the corresponding year\n",
    "    cf_year = pd.read_csv(f\"paper_runs/2zone_greenfields/fusion/{year}/Generators_variability.csv\")\n",
    "   \n",
    "    cf_year['solar_pv_2'] = solar_cf\n",
    "    cf_year['onshore_wind_2'] = onsw_cf\n",
    "    cf_year['offshore_wind_2'] = ofsw_cf\n",
    "\n",
    "    cf_year.to_csv(f\"paper_runs/2zone_greenfields/fusion/{year}/Generators_variability.csv\")"
   ]
  },
  {
   "cell_type": "code",
   "execution_count": 12,
   "metadata": {},
   "outputs": [],
   "source": [
    "### Separate the offshore wind availability columns into both fixed and floating\n",
    "\n",
    "for i in range (2001, 2021):\n",
    "    year = str(i)\n",
    "\n",
    "    fus_avail = pd.read_csv(f\"paper_runs/2zone_greenfields/fusion/{year}/Generators_variability.csv\")\n",
    "    no_avail = pd.read_csv(f\"paper_runs/2zone_greenfields/no_fusion/{year}/Generators_variability.csv\")\n",
    "\n",
    "    wind_avail = fus_avail['offshore_wind_2']\n",
    "\n",
    "    fus_avail.rename(columns={'offshore_wind_2': 'fixed_offshore_wind_2'}, inplace=True)\n",
    "    no_avail.rename(columns={'offshore_wind_2': 'fixed_offshore_wind_2'}, inplace=True)\n",
    "\n",
    "    fus_avail['float_offshore_wind_2'] = wind_avail\n",
    "    no_avail['float_offshore_wind_2'] = wind_avail\n",
    "\n",
    "    fus_avail.to_csv(f\"paper_runs/2zone_greenfields/fusion/{year}/Generators_variability.csv\")\n",
    "    no_avail.to_csv(f\"paper_runs/2zone_greenfields/no_fusion/{year}/Generators_variability.csv\")\n"
   ]
  },
  {
   "cell_type": "code",
   "execution_count": 25,
   "metadata": {},
   "outputs": [],
   "source": [
    "### Availability for the 20 years\n",
    "all_avail = pd.read_csv(\"paper_runs/2zone_20yr/89QC_Flex_Fus/Generators_variability.csv\")\n",
    "no_cap = pd.read_csv(\"paper_runs/2zone_20yr/89QC_Flex_NoFus/Generators_variability.csv\")\n",
    "\n",
    "\n",
    "off_avail = all_avail['offshore_wind_2']\n",
    "\n",
    "all_avail.rename(columns={'offshore_wind_2': 'fixed_offshore_wind_2'}, inplace=True)\n",
    "no_cap.rename(columns={'offshore_wind_2': 'fixed_offshore_wind_2'}, inplace=True)\n",
    "\n",
    "all_avail['float_offshore_wind_2'] = off_avail\n",
    "no_cap['float_offshore_wind_2'] = off_avail\n",
    "\n",
    "all_avail.to_csv(\"paper_runs/2zone_20yr/89QC_Flex_Fus/Generators_variability.csv\")\n",
    "no_cap.to_csv(\"paper_runs/2zone_20yr/89QC_Flex_NoFus/Generators_variability.csv\")"
   ]
  },
  {
   "attachments": {},
   "cell_type": "markdown",
   "metadata": {},
   "source": [
    "# Time Varying Fuel Price"
   ]
  },
  {
   "cell_type": "code",
   "execution_count": 6,
   "metadata": {},
   "outputs": [],
   "source": [
    "# fuel_input = pd.read_csv(\"\")\n",
    "\n",
    "\n",
    "ng_fuel_price = [6.47, 6.58, 6.75, 7.09, 8.85, 10.38, 11.49, 11.27, 11.00, 7.35, 6.17, 6.90]\n",
    "desired_length = 8760\n",
    "\n",
    "stretched_price = []\n",
    "\n",
    "hours_per_month = 730\n",
    "\n",
    "stretched_price = np.repeat(ng_fuel_price, hours_per_month)\n",
    "stretched_price = np.resize(stretched_price, desired_length)\n",
    "\n",
    "existing_fuel = pd.read_csv(\"paper_runs/2zone_greenfields/fusion/2001/Fuels_data.csv\")\n",
    "\n",
    "ng_new = stretched_price\n",
    "\n",
    "ng_final = np.insert(ng_new, 0, 0.05306)\n",
    "\n",
    "\n",
    "ccs_new = (ng_new) + 0.053 * 0.9 * 20\n",
    "ccs_final = np.insert(ccs_new, 0, 0.005306)\n",
    "\n",
    "existing_fuel[\"ng_varying\"] = ng_final\n",
    "existing_fuel[\"ccs_varying\"] = ccs_final\n",
    "\n",
    "# existing_fuel.to_csv(\"fuel_comparison.csv\")\n",
    "\n"
   ]
  },
  {
   "cell_type": "code",
   "execution_count": 112,
   "metadata": {},
   "outputs": [
    {
     "name": "stdout",
     "output_type": "stream",
     "text": [
      "   Time_Index       NG  nuclear     NGCCS  nuclear_fusion  None\n",
      "0           0  0.05306     0.00  0.005306               0     0\n",
      "1           1  4.00000     0.74  4.954000               0     0\n",
      "2           2  4.00000     0.74  4.954000               0     0\n",
      "3           3  4.00000     0.74  4.954000               0     0\n",
      "4           4  4.00000     0.74  4.954000               0     0\n"
     ]
    }
   ],
   "source": [
    "## Replace the fuel columns in the fuels_data.csv file and then distribute to the 20 years\n",
    "\n",
    "first_fuel = pd.read_csv(\"paper_runs/2zone_greenfields/fusion/2001/Fuels_data.csv\")\n",
    "print(first_fuel.head())\n",
    "\n",
    "first_fuel = first_fuel.assign(NG = lambda x: ng_final, NGCCS = lambda x: ccs_final)\n",
    "\n",
    "for year in range(2001, 2021):\n",
    "    old_fuel = pd.read_csv(f\"paper_runs/2zone_greenfields/fusion/{year}/Fuels_data.csv\")\n",
    "\n",
    "    new_fuel = old_fuel.assign(NG = lambda x: ng_final, NGCCS = lambda x: ccs_final)\n",
    "\n",
    "    new_fuel.to_csv(f\"paper_runs/2zone_greenfields/fusion/{year}/Fuels_data.csv\")"
   ]
  },
  {
   "cell_type": "code",
   "execution_count": 8,
   "metadata": {},
   "outputs": [],
   "source": [
    "## Do the same thing for the 20 year dataset\n",
    "\n",
    "ng_20 = np.repeat(ng_new, 20)\n",
    "ccs_20 = np.repeat(ccs_new, 20)\n",
    "\n",
    "ng_20_fin = np.insert(ng_20, 0, 0.05306)\n",
    "ccs_20_fin = np.insert(ccs_20, 0, 0.005306)\n",
    "\n",
    "fuel_20 = pd.read_csv(\"paper_runs/2zone_20yr/89QC_Flex_Fus/Fuels_data.csv\")\n",
    "fuel_20_fin = fuel_20.assign(NG = lambda x: ng_20_fin, NGCCS = lambda x: ccs_20_fin)\n",
    "\n",
    "fuel_20_fin.to_csv(\"paper_runs/2zone_20yr/89QC_Flex_Fus/Fuels_data.csv\")\n"
   ]
  },
  {
   "cell_type": "markdown",
   "metadata": {},
   "source": [
    "# Take existing Fuels_data and distribute"
   ]
  },
  {
   "cell_type": "code",
   "execution_count": 32,
   "metadata": {},
   "outputs": [],
   "source": [
    "fuel_base = pd.read_csv(\"test_runs/2z_1sc_test_run/Fuels_data.csv\")"
   ]
  },
  {
   "cell_type": "code",
   "execution_count": 36,
   "metadata": {},
   "outputs": [],
   "source": [
    "### This is for the single year cases\n",
    "\n",
    "fuel_real = pd.read_csv(\"paper_runs/2zone_greenfields/fusion/2001/Fuels_data.csv\")\n",
    "\n",
    "for year in range(2001, 2021):\n",
    "    fuel_real.to_csv(f\"paper_runs/2zone_greenfields/fusion/{year}/Fuels_data.csv\", index = False)\n",
    "    fuel_real.to_csv(f\"paper_runs/2zone_greenfields/no_fusion/{year}/Fuels_data.csv\", index = False)\n"
   ]
  },
  {
   "cell_type": "code",
   "execution_count": 43,
   "metadata": {},
   "outputs": [],
   "source": [
    "### This is for the 20 year case\n",
    "fuel_20_data = pd.read_csv(\"test_runs/2z_20sc_test_run/Fuels_data.csv\")\n",
    "\n",
    "time_index = 175200\n",
    "rows_to_delete = fuel_20_data.loc[fuel_20_data['Time_Index'] > time_index].index\n",
    "\n",
    "fuel_20_data.drop(rows_to_delete, inplace=True)\n",
    "fuel_20_data.dropna(axis=0, how='all', inplace=True)\n",
    "\n",
    "\n",
    "fuel_20_data.to_csv(\"paper_runs/2zone_20yr/89QC_Flex_Fus/Fuels_data.csv\", index=False)\n",
    "fuel_20_data.to_csv(\"paper_runs/2zone_20yr/89QC_Flex_NoFus/Fuels_data.csv\", index=False)"
   ]
  },
  {
   "attachments": {},
   "cell_type": "markdown",
   "metadata": {},
   "source": [
    "# Distribute Generators_data"
   ]
  },
  {
   "cell_type": "code",
   "execution_count": 50,
   "metadata": {},
   "outputs": [],
   "source": [
    "gen_source_df = pd.read_csv(\"test_runs/2z_1sc_test_run/Generators_data.csv\")"
   ]
  },
  {
   "cell_type": "code",
   "execution_count": 53,
   "metadata": {},
   "outputs": [],
   "source": [
    "## This is for the fusion case\n",
    "\n",
    "for year in range(2001, 2021):\n",
    "    gen_fus = gen_source_df.copy().reset_index(drop=True)\n",
    "    gen_fus.loc['fusion_2', 'FUSION'] = 1\n",
    "    gen_fus.loc['fusion_2', 'New_Build'] = 1\n",
    "    gen_fus.drop(gen_fus.index[-1], inplace=True)\n",
    "    gen_fus['Fuel'] = ['None', 'NGCCS', 'None', 'None', 'None', 'None', 'None', 'NG', 'nuclear', 'None', 'None', 'None']\n",
    "    gen_fus.to_csv(f\"paper_runs/2zone_greenfields/fusion/{year}/Generators_data.csv\", index=False)\n",
    "\n",
    "\n",
    "## This is for the no-fusion case\n",
    "\n",
    "for year in range(2001, 2021):\n",
    "    gen_nofus = gen_source_df.copy().reset_index(drop=True)\n",
    "    gen_nofus.loc[gen_nofus['Resource'] == 'fusion_2', 'New_Build'] = 0\n",
    "    gen_nofus.loc[gen_nofus['Resource'] == 'fusion_2', 'FUSION'] = 1\n",
    "    gen_nofus['Fuel'] = ['None', 'NGCCS', 'None', 'None', 'None', 'None', 'None', 'NG', 'nuclear', 'None', 'None', 'None']\n",
    "    # gen_nofus.drop(gen_nofus.index[-1], inplace=True)\n",
    "    gen_nofus.to_csv(f\"paper_runs/2zone_greenfields/no_fusion/{year}/Generators_data.csv\", index=False)"
   ]
  },
  {
   "cell_type": "code",
   "execution_count": 29,
   "metadata": {},
   "outputs": [],
   "source": [
    "## 20 year case\n",
    "\n",
    "gen_20 = gen_source_df.copy()\n",
    "\n",
    "gen_20['Inv_Cost_per_MWyr'] = gen_source_df['Inv_Cost_per_MWyr'] * 20\n",
    "gen_20['Inv_Cost_per_MWhyr'] = gen_source_df['Inv_Cost_per_MWhyr'] * 20\n",
    "gen_20['Fixed_OM_Cost_per_MWyr'] = gen_source_df['Fixed_OM_Cost_per_MWyr'] * 20\n",
    "gen_20['Fixed_OM_Cost_per_MWhyr'] = gen_source_df['Fixed_OM_Cost_per_MWhyr'] * 20\n",
    "\n",
    "gen_20.to_csv(\"paper_runs/2zone_20yr/89QC_Flex_Fus/Generators_data.csv\")\n",
    "gen_20.to_csv(\"paper_runs/2zone_20yr/89QC_Flex_NoFus/Generators_data.csv\")\n"
   ]
  },
  {
   "cell_type": "code",
   "execution_count": 45,
   "metadata": {},
   "outputs": [],
   "source": [
    "gen_20_df_init = pd.read_csv(\"paper_runs/2zone_20yr/89QC_Flex_Fus/Generators_data.csv\")\n",
    "\n",
    "gen_20_df = gen_20_df_init.copy().reset_index(drop=True)\n",
    "\n",
    "gen_20_df['Fuel'] = ['None', 'NGCCS', 'None', 'None', 'None', 'None', 'None', 'NG', 'nuclear', 'None', 'None', 'None']\n",
    "\n",
    "gen_20_df.to_csv(\"paper_runs/2zone_20yr/89QC_Flex_Fus/Generators_data.csv\", index=False)\n",
    "gen_20_df.to_csv(\"paper_runs/2zone_20yr/89QC_Flex_NoFus/Generators_data.csv\", index=False)\n"
   ]
  },
  {
   "cell_type": "code",
   "execution_count": 6,
   "metadata": {},
   "outputs": [],
   "source": [
    "## Generator data with FLEX\n",
    "gen_right_flex = pd.read_csv(\"paper_runs/2zone_greenfields/fusion/2001/Generators_data.csv\")\n",
    "gen_right_flex['Fuel'] = ['None', 'NGCCS', 'None', 'None', 'None', 'None', 'None', 'NG', 'nuclear', 'None', 'None', 'None']\n",
    "gen_right_flex['FLEX'] = 0\n",
    "\n",
    "\n",
    "for year in range(2001, 2021):\n",
    "    gen_right_flex.to_csv(f\"paper_runs/2zone_greenfields/fusion/{year}/Generators_data.csv\", index=False)\n",
    "    gen_right_flex.to_csv(f\"paper_runs/2zone_greenfields/no_fusion/{year}/Generators_data.csv\", index=False)"
   ]
  },
  {
   "attachments": {},
   "cell_type": "markdown",
   "metadata": {},
   "source": [
    "# Distribute C02_cap.csv"
   ]
  },
  {
   "cell_type": "code",
   "execution_count": 4,
   "metadata": {},
   "outputs": [],
   "source": [
    "co2_df = pd.read_csv(\"paper_runs/2zone_greenfields/fusion/2001/CO2_cap.csv\")\n",
    "\n",
    "for year in range(2002, 2021):\n",
    "    co2_df.to_csv(f\"paper_runs/2zone_greenfields/fusion/{year}/CO2_cap.csv\")"
   ]
  },
  {
   "cell_type": "code",
   "execution_count": 2,
   "metadata": {},
   "outputs": [
    {
     "name": "stdout",
     "output_type": "stream",
     "text": [
      "QC Load Check Passed\n"
     ]
    }
   ],
   "source": [
    "#### Check that the QC load matches\n",
    "\n",
    "new_gf = pd.read_csv(\"2zone_greenfields/fusion/2001/Load_data.csv\")\n",
    "old_gf = pd.read_csv(\"D:/Nirmal/2022 FALL MIT/RA Documents/GenX/GenX/fusion_runs/data/primal_2zone_1year_89QC_Flex/Load_data.csv\")\n",
    "\n",
    "old_qc = old_gf[\"Load_MW_z1\"]\n",
    "new_qc = new_gf[\"Load_MW_z1\"]\n",
    "\n",
    "if old_qc.all() == new_qc.all():\n",
    "    print(f\"QC Load Check Passed\")\n",
    "else:\n",
    "    print(f\"QC Load Check Failed\")"
   ]
  },
  {
   "cell_type": "code",
   "execution_count": 5,
   "metadata": {},
   "outputs": [
    {
     "name": "stdout",
     "output_type": "stream",
     "text": [
      "-0.06465111960716192\n"
     ]
    }
   ],
   "source": [
    "old_ne = old_gf[\"Load_MW_z2\"].sum()\n",
    "new_ne = new_gf[\"Load_MW_z2\"].sum()\n",
    "\n",
    "change = (new_ne - old_ne) / old_ne\n",
    "\n",
    "print(change)\n"
   ]
  },
  {
   "cell_type": "markdown",
   "metadata": {},
   "source": [
    "## Fusion_Data Distribution"
   ]
  },
  {
   "cell_type": "code",
   "execution_count": 20,
   "metadata": {},
   "outputs": [],
   "source": [
    "fus_data = pd.read_csv(\"test_runs/2z_1sc_test_run/Fusion_data.csv\")\n",
    "\n",
    "for year in range(2001, 2021):\n",
    "    fus_data.to_csv(f\"paper_runs/2zone_greenfields/no_fusion/{year}/Fusion_data.csv\")\n",
    "    fus_data.to_csv(f\"paper_runs/2zone_greenfields/fusion/{year}/Fusion_data.csv\")\n",
    "    "
   ]
  },
  {
   "cell_type": "code",
   "execution_count": 24,
   "metadata": {},
   "outputs": [],
   "source": [
    "## this is for the 20 year case\n",
    "\n",
    "fus_20 = fus_data.copy()\n",
    "\n",
    "fus_20['Inv_Vessel_per_MWe'] = fus_data[\"Inv_Vessel_per_MWe\"] * 20\n",
    "fus_20[\"Turb_CAPEX\"] = fus_data['Turb_CAPEX'] * 20\n",
    "\n",
    "fus_20.to_csv(\"paper_runs/2zone_20yr/89QC_Flex_Fus/Fusion_data.csv\")\n",
    "fus_20.to_csv(\"paper_runs/2zone_20yr/89QC_Flex_NoFus/Fusion_data.csv\")"
   ]
  },
  {
   "cell_type": "markdown",
   "metadata": {},
   "source": [
    "## Adding BTM PV to the model"
   ]
  },
  {
   "cell_type": "code",
   "execution_count": 3,
   "metadata": {},
   "outputs": [],
   "source": [
    "### Read the generators variability file for the 1 year case and the 20 year case\n",
    "gen_var_1 = pd.read_csv(\"sample_genx_data/1yr_run/Generators_variability.csv\")\n",
    "gen_var_20 = pd.read_csv(\"sample_genx_data/20yr_run/Generators_variability.csv\")"
   ]
  },
  {
   "cell_type": "code",
   "execution_count": null,
   "metadata": {},
   "outputs": [],
   "source": [
    "## Now get the capacity factors for the different technologies\n",
    "# Class Bin 7 and Moderate Case for all\n",
    "\n",
    "utility_cf = 0.28\n",
    "commercial_cf = 0.164\n",
    "residential_cf = 0.149\n",
    "\n",
    "\n",
    "# Now multiply the availability by the resource capacity factor ratio to get the availability for the different pv tech\n",
    "gen_var_1 = gen_var_1.assign(commercial_pv_2 = gen_var_1['solar_pv_2'] * (commercial_cf / utility_cf),\n",
    "                            residential_pv_2 = gen_var_1['solar_pv_2'] * (residential_cf / utility_cf))\n",
    "\n",
    "gen_var_20 = gen_var_20.assign(commercial_pv_2 = gen_var_20['solar_pv_2'] * (commercial_cf / utility_cf),\n",
    "                               residential_pv_2 = gen_var_20['solar_pv_2'] * (residential_cf / utility_cf))\n",
    "\n",
    "\n",
    "gen_var_1.to_csv(\"sample_genx_data/1yr_run/Generators_variability.csv\", index=False)\n",
    "gen_var_20.to_csv(\"sample_genx_data/20yr_run/Generators_variability.csv\", index=False)"
   ]
  },
  {
   "cell_type": "code",
   "execution_count": 3,
   "metadata": {},
   "outputs": [],
   "source": [
    "## Add BTM availability to all the single years\n",
    "\n",
    "utility_cf = 0.28\n",
    "commercial_cf = 0.164\n",
    "residential_cf = 0.149\n",
    "\n",
    "for year in range(2001, 2021):\n",
    "    gen_avail = pd.read_csv(f\"paper_runs/2zone_greenfields/fusion/{year}/Generators_variability.csv\")\n",
    "\n",
    "    gen_avail = gen_avail.assign(commercial_pv_2 = gen_avail['solar_pv_2'] * (commercial_cf / utility_cf),\n",
    "                                residential_pv_2 = gen_avail['solar_pv_2'] * (residential_cf / utility_cf))\n",
    "    \n",
    "    gen_avail.to_csv(f\"paper_runs/2zone_greenfields/fusion/{year}/Generators_variability.csv\", index=False)\n",
    "    gen_avail.to_csv(f\"paper_runs/2zone_greenfields/no_fusion/{year}/Generators_variability.csv\", index=False)"
   ]
  },
  {
   "cell_type": "code",
   "execution_count": 4,
   "metadata": {},
   "outputs": [],
   "source": [
    "## Add BTM availability to the 20 year case\n",
    "\n",
    "gen_avail_20 = pd.read_csv(\"sample_genx_data/20yr_run/Generators_variability.csv\")\n",
    "\n",
    "gen_avail_20.to_csv(\"paper_runs/2zone_20yr/89QC_Flex_Fus/Generators_variability.csv\", index=False)\n",
    "gen_avail_20.to_csv(\"paper_runs/2zone_20yr/89QC_Flex_NoFus/Generators_variability.csv\", index=False)"
   ]
  },
  {
   "cell_type": "markdown",
   "metadata": {},
   "source": [
    "## Distribute Updated Generators_data and Fusion Data"
   ]
  },
  {
   "cell_type": "code",
   "execution_count": null,
   "metadata": {},
   "outputs": [],
   "source": [
    "## Distribute updated generators_data and fusion_data to all the single years\n",
    "gen_data = pd.read_csv(f\"sample_genx_data/1yr_run/Generators_data.csv\")\n",
    "fus_data = pd.read_csv(f\"sample_genx_data/1yr_run/Fusion_data.csv\")\n",
    "\n",
    "for year in range(2001, 2021):\n",
    "    gen_data.to_csv(f\"paper_runs/2zone_greenfields/fusion/{year}/Generators_data.csv\", index=False)\n",
    "    fus_data.to_csv(f\"paper_runs/2zone_greenfields/fusion/{year}/Fusion_data.csv\", index=False)\n",
    "    fus_data.to_csv(f\"paper_runs/2zone_greenfields/no_fusion/{year}/Fusion_data.csv\", index=False)"
   ]
  },
  {
   "cell_type": "code",
   "execution_count": 5,
   "metadata": {},
   "outputs": [],
   "source": [
    "## Distribute updated generators_data to non fusion single year case\n",
    "gen_data = pd.read_csv(f\"sample_genx_data/1yr_run/Generators_data.csv\")\n",
    "\n",
    "gen_data.loc[gen_data['Resource'].str.startswith(\"fusion_2\"), 'New_Build'] = 0\n",
    "\n",
    "for year in range(2001, 2021):\n",
    "    gen_data.to_csv(f\"paper_runs/2zone_greenfields/no_fusion/{year}/Generators_data.csv\", index=False)"
   ]
  },
  {
   "cell_type": "code",
   "execution_count": null,
   "metadata": {},
   "outputs": [],
   "source": [
    "## Distribute Generators and Fusion data to the 20 year case\n",
    "gen_data_fus = pd.read_csv(f\"sample_genx_data/20yr_run/Generators_data.csv\")\n",
    "fus_data = pd.read_csv(f\"sample_genx_data/20yr_run/Fusion_data.csv\")\n",
    "\n",
    "gen_data_nofus = gen_data_fus.copy()\n",
    "gen_data_nofus.loc[gen_data_nofus['Resource'].str.startswith(\"fusion_2\"), 'New_Build'] = 0\n",
    "\n",
    "gen_data_fus.to_csv(f\"paper_runs/2zone_20yr/89QC_Flex_Fus/Generators_data.csv\", index=False)\n",
    "gen_data_nofus.to_csv(f\"paper_runs/2zone_20yr/89QC_Flex_NoFus/Generators_data.csv\", index=False)\n",
    "fus_data.to_csv(f\"paper_runs/2zone_20yr/89QC_Flex_Fus/Fusion_data.csv\", index=False)\n",
    "fus_data.to_csv(f\"paper_runs/2zone_20yr/89QC_Flex_NoFus/Fusion_data.csv\", index=False)"
   ]
  }
 ],
 "metadata": {
  "kernelspec": {
   "display_name": "Python 3",
   "language": "python",
   "name": "python3"
  },
  "language_info": {
   "codemirror_mode": {
    "name": "ipython",
    "version": 3
   },
   "file_extension": ".py",
   "mimetype": "text/x-python",
   "name": "python",
   "nbconvert_exporter": "python",
   "pygments_lexer": "ipython3",
   "version": "3.10.10"
  },
  "orig_nbformat": 4
 },
 "nbformat": 4,
 "nbformat_minor": 2
}
