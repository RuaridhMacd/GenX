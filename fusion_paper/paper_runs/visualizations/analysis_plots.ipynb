{
 "cells": [
  {
   "cell_type": "code",
   "execution_count": 1,
   "metadata": {},
   "outputs": [],
   "source": [
    "import os\n",
    "import numpy as np\n",
    "import pandas as pd\n",
    "import matplotlib as plt"
   ]
  },
  {
   "cell_type": "code",
   "execution_count": 5,
   "metadata": {},
   "outputs": [],
   "source": [
    "pwr_df = pd.read_csv(\"D:/Nirmal/2022 FALL MIT/RA Documents/GenX/GenX_CO2/GenX/paper_runs/2zone_greenfields/fusion/2001/Results/fusion/fusion_time_10.csv\")"
   ]
  },
  {
   "cell_type": "code",
   "execution_count": 6,
   "metadata": {},
   "outputs": [
    {
     "name": "stdout",
     "output_type": "stream",
     "text": [
      "0.7490701764928838\n"
     ]
    }
   ],
   "source": [
    "net_cap = 12633.69582532336 * 0.7239130435 * 8760\n",
    "pwr_produced = pwr_df['Net Electric'].sum()\n",
    "\n",
    "print(pwr_produced/net_cap)\n"
   ]
  }
 ],
 "metadata": {
  "kernelspec": {
   "display_name": "Python 3",
   "language": "python",
   "name": "python3"
  },
  "language_info": {
   "codemirror_mode": {
    "name": "ipython",
    "version": 3
   },
   "file_extension": ".py",
   "mimetype": "text/x-python",
   "name": "python",
   "nbconvert_exporter": "python",
   "pygments_lexer": "ipython3",
   "version": "3.10.10"
  },
  "orig_nbformat": 4
 },
 "nbformat": 4,
 "nbformat_minor": 2
}
