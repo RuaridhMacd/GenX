{
 "cells": [
  {
   "cell_type": "code",
   "execution_count": 4,
   "metadata": {},
   "outputs": [],
   "source": [
    "using DataFrames"
   ]
  },
  {
   "cell_type": "code",
   "execution_count": 6,
   "metadata": {},
   "outputs": [
    {
     "data": {
      "text/plain": [
       "\"Dual_\""
      ]
     },
     "metadata": {},
     "output_type": "display_data"
    }
   ],
   "source": [
    "results_dir = joinpath(@__DIR__, \"Results\")\n",
    "key_string = \"Dual_\""
   ]
  },
  {
   "cell_type": "code",
   "execution_count": 21,
   "metadata": {},
   "outputs": [
    {
     "data": {
      "text/plain": [
       "3-element Vector{Float64}:\n",
       "  50.0\n",
       " 150.0\n",
       " 250.0"
      ]
     },
     "metadata": {},
     "output_type": "display_data"
    }
   ],
   "source": [
    "fusion_cap_list = Vector{Float64}()\n",
    "emiss_level_list = Vector{Float64}()\n",
    "\n",
    "for dir = readdir(results_dir)\n",
    "    # Split on \"_\"\n",
    "    temp = split(dir, \"_\")\n",
    "    # Add to array\n",
    "    push!(fusion_cap_list, parse(Float64, split(temp[2], \"mw\")[1]))\n",
    "    push!(emiss_level_list, parse(Float64, temp[4]))\n",
    "end\n",
    "# Get all unique values of fusion_cap_list and emiss_level_list\n",
    "fusion_cap_list = sort(unique(fusion_cap_list))\n",
    "emiss_level_list = sort(unique(emiss_level_list))"
   ]
  },
  {
   "cell_type": "code",
   "execution_count": 22,
   "metadata": {},
   "outputs": [
    {
     "data": {
      "text/plain": [
       "15-element Vector{Float64}:\n",
       "     0.0\n",
       "   500.0\n",
       "  1000.0\n",
       "  2500.0\n",
       "  5000.0\n",
       "  7500.0\n",
       " 10000.0\n",
       " 12500.0\n",
       " 15000.0\n",
       " 17500.0\n",
       " 20000.0\n",
       " 22500.0\n",
       " 25000.0\n",
       " 27500.0\n",
       " 30000.0"
      ]
     },
     "metadata": {},
     "output_type": "display_data"
    }
   ],
   "source": [
    "fusion_cap_list"
   ]
  },
  {
   "cell_type": "code",
   "execution_count": 7,
   "metadata": {},
   "outputs": [
    {
     "data": {
      "text/plain": [
       "45-element Vector{String}:\n",
       " \"Dual_0.0mw_EmissLevel_150.0\"\n",
       " \"Dual_0.0mw_EmissLevel_250.0\"\n",
       " \"Dual_0.0mw_EmissLevel_50.0\"\n",
       " \"Dual_1000.0mw_EmissLevel_150.0\"\n",
       " \"Dual_1000.0mw_EmissLevel_250.0\"\n",
       " \"Dual_1000.0mw_EmissLevel_50.0\"\n",
       " \"Dual_10000.0mw_EmissLevel_150.0\"\n",
       " \"Dual_10000.0mw_EmissLevel_250.0\"\n",
       " \"Dual_10000.0mw_EmissLevel_50.0\"\n",
       " \"Dual_12500.0mw_EmissLevel_150.0\"\n",
       " ⋮\n",
       " \"Dual_500.0mw_EmissLevel_150.0\"\n",
       " \"Dual_500.0mw_EmissLevel_250.0\"\n",
       " \"Dual_500.0mw_EmissLevel_50.0\"\n",
       " \"Dual_5000.0mw_EmissLevel_150.0\"\n",
       " \"Dual_5000.0mw_EmissLevel_250.0\"\n",
       " \"Dual_5000.0mw_EmissLevel_50.0\"\n",
       " \"Dual_7500.0mw_EmissLevel_150.0\"\n",
       " \"Dual_7500.0mw_EmissLevel_250.0\"\n",
       " \"Dual_7500.0mw_EmissLevel_50.0\""
      ]
     },
     "metadata": {},
     "output_type": "display_data"
    }
   ],
   "source": [
    "readdir(results_dir)"
   ]
  }
 ],
 "metadata": {
  "kernelspec": {
   "display_name": "Julia 1.8.3",
   "language": "julia",
   "name": "julia-1.8"
  },
  "language_info": {
   "file_extension": ".jl",
   "mimetype": "application/julia",
   "name": "julia",
   "version": "1.8.3"
  },
  "orig_nbformat": 4
 },
 "nbformat": 4,
 "nbformat_minor": 2
}
